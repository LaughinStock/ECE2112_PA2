{
 "cells": [
  {
   "cell_type": "markdown",
   "id": "8e9e5c52-aee7-47db-aefb-e55094700b3e",
   "metadata": {},
   "source": [
    "# Programming Assignment # 2 | ECE2112 | 2ECE-A"
   ]
  },
  {
   "cell_type": "code",
   "execution_count": 45,
   "id": "8dd14f37-42d9-47db-ad04-8610c33368f8",
   "metadata": {},
   "outputs": [],
   "source": [
    "#Importing Numpy"
   ]
  },
  {
   "cell_type": "code",
   "execution_count": 17,
   "id": "e649424b-c7c7-4d18-bc0d-d4c914b4d715",
   "metadata": {},
   "outputs": [],
   "source": [
    "import numpy as np"
   ]
  },
  {
   "cell_type": "markdown",
   "id": "1dedb8ea-07e4-41dc-8177-eaf6e971f83a",
   "metadata": {},
   "source": [
    "#PA2.1: Normalization Problem"
   ]
  },
  {
   "cell_type": "code",
   "execution_count": 39,
   "id": "eee458f8-29d2-42b7-aaf6-d0d9953fc8fb",
   "metadata": {},
   "outputs": [
    {
     "name": "stdout",
     "output_type": "stream",
     "text": [
      "Normalized array saved as 'X_normalized.npy'\n"
     ]
    }
   ],
   "source": [
    "#Code for the random 5x5 array\n",
    "X = np.random.rand(5,5)\n",
    "\n",
    "#Minimum values for array X\n",
    "X_min = X.min()\n",
    "\n",
    "#Maximum values for array X\n",
    "X_max = X.max()\n",
    "\n",
    "#Normalization formula\n",
    "#Centering formula: (X - X_min)\n",
    "#Standard Deviation formula: (X_max - X_min)\n",
    "X_normalized = (X - X_min) / (X_max - X_min)\n",
    "\n",
    "#Saving the normalized array to a file\n",
    "np.save('X_normalized.npy', X_normalized)\n",
    "\n",
    "print(\"Normalized array saved as 'X_normalized.npy'\")"
   ]
  },
  {
   "cell_type": "code",
   "execution_count": 41,
   "id": "4b2cbc37-ada1-422f-bc0f-88cc7fd458e2",
   "metadata": {},
   "outputs": [
    {
     "data": {
      "text/plain": [
       "array([[0.74958636, 0.38932223, 0.96400814, 0.80756268, 0.54492384],\n",
       "       [0.71262008, 0.6807799 , 0.02636313, 0.75738719, 0.53486437],\n",
       "       [0.68892046, 0.43046723, 0.33204391, 0.52884407, 0.04250311],\n",
       "       [0.48342613, 0.65154514, 0.51390401, 0.32844144, 0.96718694],\n",
       "       [0.45582766, 0.76145576, 0.24423325, 0.07432023, 0.38459386]])"
      ]
     },
     "execution_count": 41,
     "metadata": {},
     "output_type": "execute_result"
    }
   ],
   "source": [
    "X"
   ]
  },
  {
   "cell_type": "markdown",
   "id": "a0c8488f-3d2a-44e3-8a51-99b2d31db21e",
   "metadata": {},
   "source": [
    "#PA2.2: Divisible by 3x3"
   ]
  },
  {
   "cell_type": "code",
   "execution_count": 74,
   "id": "fa28cee7-0d82-42fa-98d0-cb84d693cb69",
   "metadata": {},
   "outputs": [
    {
     "name": "stdout",
     "output_type": "stream",
     "text": [
      "Elements that are divisible by 3 in the 10 x 10 array: \n",
      "[[   9   36   81  144  225  324  441  576  729  900 1089]\n",
      " [1296 1521 1764 2025 2304 2601 2916 3249 3600 3969 4356]\n",
      " [4761 5184 5625 6084 6561 7056 7569 8100 8649 9216 9801]]\n"
     ]
    }
   ],
   "source": [
    "#Create an array of the first 100 integers as A\n",
    "A = np.arange(1, 101)\n",
    "\n",
    "#Square the terms of A\n",
    "sqr = A ** 2\n",
    "\n",
    "#Reshape the array into a 10x10 ndarray \n",
    "sqr10x10 = sqr.reshape((10, 10))\n",
    "\n",
    "#Find all the elements divisible by 3 using modulo\n",
    "divisible_by_3 = squares_10x10[squares_10x10 % 3 == 0]\n",
    "\n",
    "#Reshaping divisible_by_3 into a 3x11 array\n",
    "div3 = divisible_by_3.reshape((3, 11))\n",
    "\n",
    "#Save divisible_by_3 and print div3 \n",
    "np.save('divisible_by_3.npy', divisible_by_3)\n",
    "print(\"Elements that are divisible by 3 in the 10 x 10 array: \")\n",
    "print(div3)"
   ]
  },
  {
   "cell_type": "code",
   "execution_count": null,
   "id": "c5f77220-36e5-40e5-9de8-b0e3d3eec376",
   "metadata": {},
   "outputs": [],
   "source": []
  }
 ],
 "metadata": {
  "kernelspec": {
   "display_name": "Python 3 (ipykernel)",
   "language": "python",
   "name": "python3"
  },
  "language_info": {
   "codemirror_mode": {
    "name": "ipython",
    "version": 3
   },
   "file_extension": ".py",
   "mimetype": "text/x-python",
   "name": "python",
   "nbconvert_exporter": "python",
   "pygments_lexer": "ipython3",
   "version": "3.12.4"
  }
 },
 "nbformat": 4,
 "nbformat_minor": 5
}
