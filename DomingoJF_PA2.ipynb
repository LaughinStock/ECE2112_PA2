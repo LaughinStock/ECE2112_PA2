{
 "cells": [
  {
   "cell_type": "markdown",
   "id": "8e9e5c52-aee7-47db-aefb-e55094700b3e",
   "metadata": {},
   "source": [
    "# Programming Assignment # 2 | ECE2112 | 2ECE-A"
   ]
  },
  {
   "cell_type": "code",
   "execution_count": 6,
   "id": "8dd14f37-42d9-47db-ad04-8610c33368f8",
   "metadata": {},
   "outputs": [],
   "source": [
    "#Importing Numpy"
   ]
  },
  {
   "cell_type": "code",
   "execution_count": 7,
   "id": "e649424b-c7c7-4d18-bc0d-d4c914b4d715",
   "metadata": {},
   "outputs": [],
   "source": [
    "import numpy as np"
   ]
  },
  {
   "cell_type": "markdown",
   "id": "1dedb8ea-07e4-41dc-8177-eaf6e971f83a",
   "metadata": {},
   "source": [
    "# PA2.1: Normalization Problem"
   ]
  },
  {
   "cell_type": "markdown",
   "id": "2be49069-f487-4dc7-9ea9-fe5c8cdba81e",
   "metadata": {},
   "source": [
    "# A. Normalization using std and mean (main)."
   ]
  },
  {
   "cell_type": "code",
   "execution_count": 17,
   "id": "631a4729-8901-44cb-aa51-51c8c0b15887",
   "metadata": {},
   "outputs": [
    {
     "name": "stdout",
     "output_type": "stream",
     "text": [
      "Normalized array saved as 'X_normalized.npy'\n"
     ]
    }
   ],
   "source": [
    "#Code for the random 5x5 array\n",
    "X = np.random.rand(5,5)\n",
    "\n",
    "#Calculating for the mean and the standard deviation\n",
    "mean = X.mean()\n",
    "std = X.std()\n",
    "\n",
    "#Normalization formula\n",
    "Z = (X - mean) / std\n",
    "\n",
    "#Saving the normalized array to a file\n",
    "np.save('X_normalized.npy', Z)\n",
    "\n",
    "print(\"Normalized array saved as 'X_normalized.npy'\")"
   ]
  },
  {
   "cell_type": "code",
   "execution_count": 15,
   "id": "e26c0639-a103-4873-b40d-2b0a84161caf",
   "metadata": {},
   "outputs": [
    {
     "data": {
      "text/plain": [
       "array([[ 1.20741366,  0.30261358, -0.2433976 , -0.28498458, -1.66890284],\n",
       "       [ 1.23889645, -0.38708155, -1.79076659,  0.10266608,  0.89370016],\n",
       "       [ 1.33037332, -0.82990115,  0.61147083, -0.86602552,  1.30773572],\n",
       "       [-0.47258999,  0.29098054,  0.79496831, -1.87404745,  1.42669566],\n",
       "       [ 0.12480323,  0.30507279, -0.49813749,  0.52973352, -1.55128909]])"
      ]
     },
     "execution_count": 15,
     "metadata": {},
     "output_type": "execute_result"
    }
   ],
   "source": [
    "Z"
   ]
  },
  {
   "cell_type": "markdown",
   "id": "3653484a-7124-4333-bda1-49ef2ef66760",
   "metadata": {},
   "source": [
    "# B. Normalization using Minimum and Maximum values of X."
   ]
  },
  {
   "cell_type": "code",
   "execution_count": 34,
   "id": "eee458f8-29d2-42b7-aaf6-d0d9953fc8fb",
   "metadata": {},
   "outputs": [
    {
     "name": "stdout",
     "output_type": "stream",
     "text": [
      "Normalized array saved as 'X_normalized.npy'\n"
     ]
    }
   ],
   "source": [
    "#Code for the random 5x5 array\n",
    "X = np.random.rand(5,5)\n",
    "\n",
    "#Minimum values for array X\n",
    "X_min = X.min()\n",
    "\n",
    "#Maximum values for array X\n",
    "X_max = X.max()\n",
    "\n",
    "#Normalization formula\n",
    "#Centering formula: (X - X_min)\n",
    "#Standard Deviation formula: (X_max - X_min)\n",
    "X_normalized = (X - X_min) / (X_max - X_min)\n",
    "\n",
    "#Saving the normalized array to a file\n",
    "np.save('X_normalized.npy', X_normalized)\n",
    "\n",
    "print(\"Normalized array saved as 'X_normalized.npy'\")"
   ]
  },
  {
   "cell_type": "code",
   "execution_count": 32,
   "id": "49afc68a-af4b-4920-8c2d-0cb1db05ffe7",
   "metadata": {},
   "outputs": [
    {
     "name": "stdout",
     "output_type": "stream",
     "text": [
      "[[0.31485945 0.00851749 0.46749453 0.74742207 0.99959277]\n",
      " [0.51884298 0.62344147 0.60654251 0.         0.21934097]\n",
      " [0.61539373 0.72204213 0.12473159 0.99384271 0.29592538]\n",
      " [0.79280143 0.28167654 0.28219179 0.1813319  0.10367501]\n",
      " [0.54598799 0.69970308 0.82145719 0.18761498 1.        ]]\n"
     ]
    }
   ],
   "source": [
    "print(X_normalized)"
   ]
  },
  {
   "cell_type": "markdown",
   "id": "a0c8488f-3d2a-44e3-8a51-99b2d31db21e",
   "metadata": {},
   "source": [
    "# PA2.2: Divisible by 3x3"
   ]
  },
  {
   "cell_type": "code",
   "execution_count": 26,
   "id": "fa28cee7-0d82-42fa-98d0-cb84d693cb69",
   "metadata": {},
   "outputs": [
    {
     "name": "stdout",
     "output_type": "stream",
     "text": [
      "Elements that are divisible by 3 in the 10 x 10 array: \n",
      "[[   9   36   81  144  225  324  441  576  729  900 1089]\n",
      " [1296 1521 1764 2025 2304 2601 2916 3249 3600 3969 4356]\n",
      " [4761 5184 5625 6084 6561 7056 7569 8100 8649 9216 9801]]\n"
     ]
    }
   ],
   "source": [
    "#Create an array of the first 100 integers as A\n",
    "A = np.arange(1, 101)\n",
    "\n",
    "#Square the terms of A\n",
    "sqr = A ** 2\n",
    "\n",
    "#Reshape the array into a 10x10 ndarray \n",
    "sqr10x10 = sqr.reshape((10, 10))\n",
    "\n",
    "#Find all the elements divisible by 3 using modulo\n",
    "divisible_by_3 = sqr10x10[sqr10x10 % 3 == 0]\n",
    "\n",
    "#Reshaping divisible_by_3 into a 3x11 array\n",
    "div3 = divisible_by_3.reshape((3, 11))\n",
    "\n",
    "#Save divisible_by_3 and print div3 \n",
    "np.save('divisible_by_3.npy', divisible_by_3)\n",
    "print(\"Elements that are divisible by 3 in the 10 x 10 array: \")\n",
    "print(div3)"
   ]
  }
 ],
 "metadata": {
  "kernelspec": {
   "display_name": "Python 3 (ipykernel)",
   "language": "python",
   "name": "python3"
  },
  "language_info": {
   "codemirror_mode": {
    "name": "ipython",
    "version": 3
   },
   "file_extension": ".py",
   "mimetype": "text/x-python",
   "name": "python",
   "nbconvert_exporter": "python",
   "pygments_lexer": "ipython3",
   "version": "3.12.4"
  }
 },
 "nbformat": 4,
 "nbformat_minor": 5
}
